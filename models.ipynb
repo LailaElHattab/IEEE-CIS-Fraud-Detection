{
  "cells": [
    {
      "cell_type": "code",
      "execution_count": 1,
      "id": "da6213d9",
      "metadata": {
        "id": "da6213d9"
      },
      "outputs": [],
      "source": [
        "import random\n",
        "import pickle\n",
        "import numpy as np\n",
        "import pandas as pd\n",
        "import seaborn as sns\n",
        "import matplotlib.pyplot as plt\n",
        "%matplotlib inline\n",
        "from prettytable import PrettyTable\n",
        "import sklearn\n",
        "from sklearn import metrics\n",
        "from sklearn.naive_bayes import GaussianNB\n",
        "from sklearn.linear_model import LogisticRegression\n",
        "from sklearn.tree import DecisionTreeClassifier\n",
        "from sklearn.ensemble import RandomForestClassifier, AdaBoostClassifier\n",
        "from xgboost import XGBClassifier\n",
        "from sklearn.model_selection import TimeSeriesSplit, train_test_split, GridSearchCV\n",
        "from sklearn.preprocessing import LabelEncoder\n",
        "from sklearn.metrics import roc_auc_score\n",
        "from sklearn.calibration import CalibratedClassifierCV\n",
        "from sklearn.metrics import confusion_matrix\n",
        "from sklearn.svm import SVC\n",
        "from sklearn import preprocessing\n",
        "from imblearn.over_sampling import SMOTE\n",
        "from sklearn.metrics import classification_report\n",
        "from sklearn.neural_network import MLPClassifier\n",
        "import warnings\n",
        "warnings.filterwarnings(\"ignore\")"
      ]
    },
    {
      "cell_type": "code",
      "execution_count": 2,
      "id": "8bbc073b",
      "metadata": {
        "id": "8bbc073b"
      },
      "outputs": [],
      "source": [
        "train_data = pd.read_pickle('merged_train.pkl')"
      ]
    },
    {
      "cell_type": "code",
      "execution_count": 3,
      "id": "0480f790",
      "metadata": {
        "colab": {
          "base_uri": "https://localhost:8080/"
        },
        "id": "0480f790",
        "outputId": "952b0383-9933-433d-d17d-5253ddb29d97"
      },
      "outputs": [
        {
          "name": "stdout",
          "output_type": "stream",
          "text": [
            "*********************************************\n",
            "\n",
            " Train Data Shape : (590540, 434) \n",
            "\n",
            "*********************************************\n"
          ]
        }
      ],
      "source": [
        "print(\"*\"*45)\n",
        "print(\"\\n Train Data Shape : {} \\n\".format(train_data.shape))\n",
        "print(\"*\"*45)"
      ]
    },
    {
      "cell_type": "markdown",
      "id": "eO36Arb_F0_7",
      "metadata": {
        "id": "eO36Arb_F0_7"
      },
      "source": [
        "## Utility Functions\n",
        "<br>"
      ]
    },
    {
      "cell_type": "code",
      "execution_count": 4,
      "id": "780a3e54",
      "metadata": {
        "id": "780a3e54"
      },
      "outputs": [],
      "source": [
        "def cat_num_features(df):\n",
        "    catf = []\n",
        "    numf = []\n",
        "    catf = ['ProductCD', 'card1', 'card2', 'card3', 'card4', 'card5', \\\n",
        "            'card6', 'addr1', 'addr2', 'P_emaildomain', 'R_emaildomain', 'M1', 'M2', \\\n",
        "            'M3', 'M4', 'M5', 'M6', 'M7', 'M8', 'M9', \\\n",
        "            'DeviceType', 'DeviceInfo']\n",
        "    catf+=['id_'+str(i) for i in range(12,39)]\n",
        "    catf = [feature for feature in catf if feature in df.columns.values]\n",
        "    numf = [feature for feature in df.columns if feature not in catf and not feature == 'isFraud']\n",
        "    return (catf, numf)  "
      ]
    },
    {
      "cell_type": "code",
      "execution_count": 5,
      "id": "3a6b4ccc",
      "metadata": {},
      "outputs": [],
      "source": [
        "def label_encode(X_train, catf):\n",
        "  for f in catf:\n",
        "    X_train[f] = X_train[f].astype(str)\n",
        "    le = LabelEncoder()\n",
        "    le.fit(X_train[f])\n",
        "    mapping = dict(zip(le.classes_, le.transform(le.classes_)))\n",
        "    X_train[f] = le.transform(X_train[f])\n",
        "  return (X_train)"
      ]
    },
    {
      "cell_type": "markdown",
      "id": "9dd59e19",
      "metadata": {
        "id": "9dd59e19"
      },
      "source": [
        "## Data Preparation\n",
        "<br>"
      ]
    },
    {
      "cell_type": "markdown",
      "id": "rQTzZJCOXX6R",
      "metadata": {
        "id": "rQTzZJCOXX6R"
      },
      "source": [
        "### Splitting the Dataset\n",
        "<br>"
      ]
    },
    {
      "cell_type": "code",
      "execution_count": 7,
      "id": "e75daf6b",
      "metadata": {
        "id": "e75daf6b"
      },
      "outputs": [],
      "source": [
        "x = train_data.drop(['isFraud', 'TransactionID'], axis=1)\n",
        "y = train_data['isFraud']"
      ]
    },
    {
      "cell_type": "code",
      "execution_count": 8,
      "id": "08ddc3d8",
      "metadata": {
        "colab": {
          "base_uri": "https://localhost:8080/"
        },
        "id": "08ddc3d8",
        "outputId": "77144020-0d80-4ba8-f282-71736cbbd21d",
        "scrolled": true
      },
      "outputs": [
        {
          "name": "stdout",
          "output_type": "stream",
          "text": [
            "*********************************************\n",
            "\n",
            " Train Data Shape : (590540, 432) \n",
            "\n",
            "*********************************************\n"
          ]
        }
      ],
      "source": [
        "print(\"*\"*45)\n",
        "print(\"\\n Train Data Shape : {} \\n\".format(x.shape))\n",
        "print(\"*\"*45)"
      ]
    },
    {
      "cell_type": "code",
      "execution_count": 9,
      "id": "712e6afc",
      "metadata": {
        "id": "712e6afc"
      },
      "outputs": [],
      "source": [
        "catf, numf = cat_num_features(x)\n",
        "categorical_feature_indices = [x.columns.get_loc(f) for f in catf]"
      ]
    },
    {
      "cell_type": "code",
      "execution_count": 10,
      "id": "725b5698",
      "metadata": {},
      "outputs": [],
      "source": [
        "x = label_encode(x, catf)"
      ]
    },
    {
      "cell_type": "code",
      "execution_count": 11,
      "id": "3432d35f",
      "metadata": {
        "id": "3432d35f"
      },
      "outputs": [],
      "source": [
        "x[catf] = x[catf].fillna('missing')\n"
      ]
    },
    {
      "cell_type": "code",
      "execution_count": 12,
      "id": "10320f4d",
      "metadata": {
        "id": "10320f4d"
      },
      "outputs": [],
      "source": [
        "x[numf] =x[numf].fillna(-999)\n",
        "x[numf] = preprocessing.normalize(x[numf])"
      ]
    },
    {
      "cell_type": "code",
      "execution_count": 13,
      "id": "385bc132",
      "metadata": {
        "id": "385bc132"
      },
      "outputs": [],
      "source": [
        "X_train, X_test, y_train, y_test = train_test_split(x, y)"
      ]
    },
    {
      "cell_type": "code",
      "execution_count": 14,
      "id": "77b932d2",
      "metadata": {
        "colab": {
          "base_uri": "https://localhost:8080/"
        },
        "id": "77b932d2",
        "outputId": "9a4b92b6-ec49-4818-c965-6ac6824c73ba"
      },
      "outputs": [
        {
          "name": "stdout",
          "output_type": "stream",
          "text": [
            "************************************************************\n",
            "\n",
            " Train Dataset Set1 Shape : (442905, 432) \n",
            "\n",
            "\n",
            " Test Dataset Set1 Shape : (147635, 432) \n",
            "\n",
            "************************************************************\n"
          ]
        }
      ],
      "source": [
        "print(\"*\"*60)\n",
        "print(\"\\n Train Dataset Set1 Shape : {} \\n\".format(X_train.shape))\n",
        "print(\"\\n Test Dataset Set1 Shape : {} \\n\".format(X_test.shape))\n",
        "print(\"*\"*60)"
      ]
    },
    {
      "cell_type": "markdown",
      "id": "48d2678b",
      "metadata": {
        "id": "48d2678b"
      },
      "source": [
        "## Base Line Models\n",
        "<br>"
      ]
    },
    {
      "cell_type": "markdown",
      "id": "2ba10ea9",
      "metadata": {
        "id": "2ba10ea9"
      },
      "source": [
        "<br>\n",
        "\n",
        "### 1. Naive Bayes\n",
        "\n",
        "<br>"
      ]
    },
    {
      "cell_type": "code",
      "execution_count": 15,
      "id": "bc1eab3f",
      "metadata": {
        "id": "bc1eab3f",
        "outputId": "24a57974-e8da-4953-ee3b-a6bf1bb027da"
      },
      "outputs": [
        {
          "data": {
            "text/plain": [
              "GaussianNB(priors=[0.5, 0.5])"
            ]
          },
          "execution_count": 15,
          "metadata": {},
          "output_type": "execute_result"
        }
      ],
      "source": [
        "nb = GaussianNB(priors=[0.5,0.5]) \n",
        "nb.fit(X_train, y_train)"
      ]
    },
    {
      "cell_type": "code",
      "execution_count": null,
      "id": "6da086e5",
      "metadata": {},
      "outputs": [],
      "source": [
        "y_pred = nb.predict(X_test)\n",
        "cnf_matrix = confusion_matrix(y_test, y_pred)\n",
        "%matplotlib inline\n",
        "class_names=[\"Not Fraudulent\", \"Fraudulent\"] # name  of classes\n",
        "fig, ax = plt.subplots(figsize=(7, 6))\n",
        "sns.heatmap(pd.DataFrame(cnf_matrix), annot=True, cmap=\"YlGnBu\", fmt='g')\n",
        "ax.xaxis.set_label_position(\"top\")\n",
        "plt.tight_layout()\n",
        "plt.title('Confusion matrix')\n",
        "plt.ylabel('Actual label')\n",
        "plt.xlabel('Predicted label')\n",
        "tick_marks = [0.5, 1.5]\n",
        "plt.xticks(tick_marks, class_names)\n",
        "plt.yticks(tick_marks, class_names)\n",
        "print(classification_report(y_test, y_pred))"
      ]
    },
    {
      "cell_type": "markdown",
      "id": "773e6871",
      "metadata": {
        "id": "773e6871"
      },
      "source": [
        "<br>\n",
        "\n",
        "### 2. Logistic Regression\n",
        "\n",
        "<br>"
      ]
    },
    {
      "cell_type": "code",
      "execution_count": null,
      "id": "46e3b212",
      "metadata": {},
      "outputs": [],
      "source": [
        "lr = LogisticRegression(n_jobs = -1, random_state = 3) \n",
        "lr.fit(X_train, y_train)"
      ]
    },
    {
      "cell_type": "code",
      "execution_count": null,
      "id": "b9caa161",
      "metadata": {},
      "outputs": [],
      "source": [
        "y_pred = nb.predict(X_test)\n",
        "cnf_matrix = confusion_matrix(y_test, y_pred)\n",
        "%matplotlib inline\n",
        "class_names=[\"Not Fraudulent\", \"Fraudulent\"] # name  of classes\n",
        "fig, ax = plt.subplots(figsize=(7, 6))\n",
        "sns.heatmap(pd.DataFrame(cnf_matrix), annot=True, cmap=\"YlGnBu\", fmt='g')\n",
        "ax.xaxis.set_label_position(\"top\")\n",
        "plt.tight_layout()\n",
        "plt.title('Confusion matrix')\n",
        "plt.ylabel('Actual label')\n",
        "plt.xlabel('Predicted label')\n",
        "tick_marks = [0.5, 1.5]\n",
        "plt.xticks(tick_marks, class_names)\n",
        "plt.yticks(tick_marks, class_names)\n",
        "print(classification_report(y_test, y_pred))\n",
        "\n",
        "importances = pd.DataFrame(data={\n",
        "    'Attribute': X_train.columns,\n",
        "    'Importance': lr.coef_[0]\n",
        "})\n",
        "importances = importances.sort_values(by='Importance', ascending=False)\n",
        "fig = plt.figure(figsize = (100, 5))\n",
        "plt.bar(x=importances['Attribute'], height=importances['Importance'], color='#087E8B')\n",
        "plt.title('Feature importances obtained from coefficients', size=20)\n",
        "plt.xticks(rotation='vertical')\n",
        "plt.show()\n",
        "pd.set_option('display.max_rows', None)\n",
        "print(importances)"
      ]
    },
    {
      "cell_type": "markdown",
      "id": "2ae3eb8c",
      "metadata": {
        "id": "2ae3eb8c"
      },
      "source": [
        "<br>\n",
        "\n",
        "### 3. Random Forest\n",
        "\n",
        "<br>"
      ]
    },
    {
      "cell_type": "code",
      "execution_count": 75,
      "id": "aa8d1def",
      "metadata": {},
      "outputs": [
        {
          "data": {
            "text/plain": [
              "RandomForestClassifier(class_weight='balanced', n_jobs=-1, random_state=3)"
            ]
          },
          "execution_count": 75,
          "metadata": {},
          "output_type": "execute_result"
        }
      ],
      "source": [
        "rf =  RandomForestClassifier(n_jobs = -1, random_state = 3)\n",
        "rf.fit(X_train, y_train)"
      ]
    },
    {
      "cell_type": "code",
      "execution_count": null,
      "id": "cf862e09",
      "metadata": {},
      "outputs": [],
      "source": [
        "y_pred = nb.predict(X_test)\n",
        "cnf_matrix = confusion_matrix(y_test, y_pred)\n",
        "%matplotlib inline\n",
        "class_names=[\"Not Fraudulent\", \"Fraudulent\"] # name  of classes\n",
        "fig, ax = plt.subplots(figsize=(7, 6))\n",
        "sns.heatmap(pd.DataFrame(cnf_matrix), annot=True, cmap=\"YlGnBu\", fmt='g')\n",
        "ax.xaxis.set_label_position(\"top\")\n",
        "plt.tight_layout()\n",
        "plt.title('Confusion matrix')\n",
        "plt.ylabel('Actual label')\n",
        "plt.xlabel('Predicted label')\n",
        "tick_marks = [0.5, 1.5]\n",
        "plt.xticks(tick_marks, class_names)\n",
        "plt.yticks(tick_marks, class_names)\n",
        "print(classification_report(y_test, y_pred))"
      ]
    },
    {
      "cell_type": "code",
      "execution_count": null,
      "id": "b886a372",
      "metadata": {},
      "outputs": [],
      "source": [
        "importances = pd.DataFrame(data={\n",
        "    'Attribute': X_train.columns,\n",
        "    'Importance': rf.feature_importances_\n",
        "})\n",
        "importances = importances.sort_values(by='Importance', ascending=False)\n",
        "fig = plt.figure(figsize = (100, 5))\n",
        "plt.bar(x=importances['Attribute'], height=importances['Importance'], color='#087E8B')\n",
        "plt.title('Feature importances obtained from coefficients', size=20)\n",
        "plt.xticks(rotation='vertical')\n",
        "plt.show()\n",
        "pd.set_option('display.max_rows', None)\n",
        "print(importances)"
      ]
    },
    {
      "cell_type": "markdown",
      "id": "bda6619d",
      "metadata": {},
      "source": [
        "<br>\n",
        "\n",
        "### 6. Support Vector Machine\n",
        "\n",
        "<br>"
      ]
    },
    {
      "cell_type": "code",
      "execution_count": 78,
      "id": "7ba4a98d",
      "metadata": {},
      "outputs": [],
      "source": [
        "sv = SVC()\n",
        "sv.fit(X_train, y_train)\n"
      ]
    },
    {
      "cell_type": "code",
      "execution_count": null,
      "id": "9dcae630",
      "metadata": {},
      "outputs": [],
      "source": [
        "y_pred = nb.predict(X_test)\n",
        "cnf_matrix = confusion_matrix(y_test, y_pred)\n",
        "%matplotlib inline\n",
        "class_names=[False, True] # name  of classes\n",
        "fig, ax = plt.subplots(figsize=(7, 6))\n",
        "sns.heatmap(pd.DataFrame(cnf_matrix), annot=True, cmap=\"YlGnBu\", fmt='g')\n",
        "ax.xaxis.set_label_position(\"top\")\n",
        "plt.tight_layout()\n",
        "plt.title('Confusion matrix')\n",
        "plt.ylabel('Actual label')\n",
        "plt.xlabel('Predicted label')\n",
        "tick_marks = [0.5, 1.5]\n",
        "plt.xticks(tick_marks, class_names)\n",
        "plt.yticks(tick_marks, class_names)\n",
        "print(classification_report(y_test, y_pred))"
      ]
    },
    {
      "cell_type": "markdown",
      "id": "1a02f819",
      "metadata": {
        "id": "1a02f819"
      },
      "source": [
        "<br>\n",
        "\n",
        "### 7. Gradient Boosted Decision Tree (XGBoost)\n",
        "\n",
        "<br>"
      ]
    },
    {
      "cell_type": "code",
      "execution_count": null,
      "id": "b6d72d7e",
      "metadata": {
        "id": "b6d72d7e"
      },
      "outputs": [],
      "source": [
        "weight = y_train.value_counts()[0]/y_train.value_counts()[1]"
      ]
    },
    {
      "cell_type": "code",
      "execution_count": null,
      "id": "6b91aa61",
      "metadata": {
        "colab": {
          "base_uri": "https://localhost:8080/"
        },
        "id": "6b91aa61",
        "outputId": "2375d62a-c3a5-4d35-b6b5-00b032fdc0d9"
      },
      "outputs": [
        {
          "data": {
            "text/plain": [
              "XGBClassifier(base_score=0.5, booster='gbtree', colsample_bylevel=1,\n",
              "              colsample_bynode=1, colsample_bytree=1, eval_metric='auc',\n",
              "              gamma=0, learning_rate=0.1, max_delta_step=0, max_depth=3,\n",
              "              min_child_weight=1, missing=None, n_estimators=100, n_jobs=1,\n",
              "              nthread=None, objective='binary:logistic', random_state=3,\n",
              "              reg_alpha=0, reg_lambda=1, scale_pos_weight=27.579586700866283,\n",
              "              seed=None, silent=None, subsample=1, tree_method='gpu_hist',\n",
              "              verbosity=1)"
            ]
          },
          "execution_count": 25,
          "metadata": {
            "tags": []
          },
          "output_type": "execute_result"
        }
      ],
      "source": [
        "xgboost =  XGBClassifier(scale_pos_weight = weight, objective='binary:logistic', eval_metric = 'auc', random_state = 3, tree_method = 'gpu_hist')\n",
        "xgboost.fit(X_train, y_train)"
      ]
    },
    {
      "cell_type": "code",
      "execution_count": null,
      "id": "40974125",
      "metadata": {
        "id": "40974125"
      },
      "outputs": [],
      "source": [
        "y_pred = nb.predict(X_test)\n",
        "cnf_matrix = confusion_matrix(y_test, y_pred)\n",
        "%matplotlib inline\n",
        "class_names=[\"Not Fraudulent\", \"Fraudulent\"]\n",
        "fig, ax = plt.subplots(figsize=(7, 6))\n",
        "sns.heatmap(pd.DataFrame(cnf_matrix), annot=True, cmap=\"YlGnBu\", fmt='g')\n",
        "ax.xaxis.set_label_position(\"top\")\n",
        "plt.tight_layout()\n",
        "plt.title('Confusion matrix')\n",
        "plt.ylabel('Actual label')\n",
        "plt.xlabel('Predicted label')\n",
        "tick_marks = [0.5, 1.5]\n",
        "plt.xticks(tick_marks, class_names)\n",
        "plt.yticks(tick_marks, class_names)\n",
        "print(classification_report(y_test, y_pred))\n",
        "\n",
        "importances = pd.DataFrame(data={\n",
        "    'Attribute': X_train.columns,\n",
        "    'Importance': xgboost.feature_importances_\n",
        "})\n",
        "importances = importances.sort_values(by='Importance', ascending=False)\n",
        "fig = plt.figure(figsize = (100, 5))\n",
        "plt.bar(x=importances['Attribute'], height=importances['Importance'], color='#087E8B')\n",
        "plt.title('Feature importances obtained from coefficients', size=20)\n",
        "plt.xticks(rotation='vertical')\n",
        "plt.show()\n",
        "pd.set_option('display.max_rows', None)\n",
        "print(importances)"
      ]
    },
    {
      "cell_type": "markdown",
      "id": "2a060bf4",
      "metadata": {},
      "source": [
        "<br>\n",
        "\n",
        "### 8. Multilayer preceptron (MLP)\n",
        "\n",
        "<br>"
      ]
    },
    {
      "cell_type": "code",
      "execution_count": null,
      "id": "fc98deab",
      "metadata": {},
      "outputs": [],
      "source": [
        "clf = MLPClassifier(hidden_layer_sizes=(6,5),\n",
        "                    random_state=5,\n",
        "                    verbose=True,\n",
        "                    learning_rate_init=0.01)\n",
        "clf.fit(X_train,y_train)\n",
        "ypred=clf.predict(X_test)\n",
        "cnf_matrix = confusion_matrix(y_test, y_pred)\n",
        "%matplotlib inline\n",
        "class_names=[False, True] # name  of classes\n",
        "fig, ax = plt.subplots(figsize=(7, 6))\n",
        "sns.heatmap(pd.DataFrame(cnf_matrix), annot=True, cmap=\"YlGnBu\", fmt='g')\n",
        "ax.xaxis.set_label_position(\"top\")\n",
        "plt.tight_layout()\n",
        "plt.title('Confusion matrix')\n",
        "plt.ylabel('Actual label')\n",
        "plt.xlabel('Predicted label')\n",
        "tick_marks = [0.5, 1.5]\n",
        "plt.xticks(tick_marks, class_names)\n",
        "plt.yticks(tick_marks, class_names)\n",
        "print(classification_report(y_test, ypred))"
      ]
    }
  ],
  "metadata": {
    "accelerator": "GPU",
    "colab": {
      "collapsed_sections": [],
      "machine_shape": "hm",
      "name": "2.Baseline_Models.ipynb",
      "provenance": []
    },
    "interpreter": {
      "hash": "6c1cd336c75cb671acd623a1361b1d53cb5a4c122912c1fc5f64ed28ffbea65a"
    },
    "kernelspec": {
      "display_name": "Python 3.8.5 ('base')",
      "language": "python",
      "name": "python3"
    },
    "language_info": {
      "codemirror_mode": {
        "name": "ipython",
        "version": 3
      },
      "file_extension": ".py",
      "mimetype": "text/x-python",
      "name": "python",
      "nbconvert_exporter": "python",
      "pygments_lexer": "ipython3",
      "version": "3.8.5"
    }
  },
  "nbformat": 4,
  "nbformat_minor": 5
}
