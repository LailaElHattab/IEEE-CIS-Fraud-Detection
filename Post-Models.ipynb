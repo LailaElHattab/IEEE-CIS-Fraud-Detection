{
  "cells": [
    {
      "cell_type": "code",
      "execution_count": 70,
      "id": "da6213d9",
      "metadata": {
        "id": "da6213d9"
      },
      "outputs": [],
      "source": [
        "import random\n",
        "import pickle\n",
        "import numpy as np\n",
        "import pandas as pd\n",
        "import seaborn as sns\n",
        "import matplotlib.pyplot as plt\n",
        "%matplotlib inline\n",
        "from prettytable import PrettyTable\n",
        "import sklearn\n",
        "from sklearn import metrics\n",
        "from sklearn.naive_bayes import GaussianNB\n",
        "from sklearn.linear_model import LogisticRegression\n",
        "from sklearn.tree import DecisionTreeClassifier\n",
        "from sklearn.ensemble import RandomForestClassifier, AdaBoostClassifier\n",
        "from xgboost import XGBClassifier\n",
        "from sklearn.model_selection import TimeSeriesSplit, train_test_split, GridSearchCV\n",
        "from sklearn.preprocessing import LabelEncoder\n",
        "from sklearn.metrics import roc_auc_score\n",
        "from sklearn.calibration import CalibratedClassifierCV\n",
        "from sklearn.metrics import confusion_matrix\n",
        "from sklearn.svm import SVC\n",
        "from sklearn import preprocessing\n",
        "from imblearn.over_sampling import SMOTE\n",
        "import warnings\n",
        "warnings.filterwarnings(\"ignore\")"
      ]
    },
    {
      "cell_type": "code",
      "execution_count": 71,
      "id": "8bbc073b",
      "metadata": {
        "id": "8bbc073b"
      },
      "outputs": [],
      "source": [
        "# Loading the merged train and test dataset\n",
        "\n",
        "train_data = pd.read_pickle('merged_train.pkl')"
      ]
    },
    {
      "cell_type": "code",
      "execution_count": 72,
      "id": "0480f790",
      "metadata": {
        "colab": {
          "base_uri": "https://localhost:8080/"
        },
        "id": "0480f790",
        "outputId": "952b0383-9933-433d-d17d-5253ddb29d97"
      },
      "outputs": [
        {
          "name": "stdout",
          "output_type": "stream",
          "text": [
            "*********************************************\n",
            "\n",
            " Train Data Shape : (590540, 434) \n",
            "\n",
            "*********************************************\n"
          ]
        }
      ],
      "source": [
        "print(\"*\"*45)\n",
        "print(\"\\n Train Data Shape : {} \\n\".format(train_data.shape))\n",
        "print(\"*\"*45)"
      ]
    },
    {
      "cell_type": "markdown",
      "id": "eO36Arb_F0_7",
      "metadata": {
        "id": "eO36Arb_F0_7"
      },
      "source": [
        "## Utility Functions\n",
        "<br>"
      ]
    },
    {
      "cell_type": "code",
      "execution_count": 73,
      "id": "780a3e54",
      "metadata": {
        "id": "780a3e54"
      },
      "outputs": [],
      "source": [
        "def cat_num_features(df):\n",
        "    \n",
        "    '''\n",
        "        Utility Function to get the names of Categorical Features and \n",
        "        Numerical Features of the given Dataset.\n",
        "    '''\n",
        "    \n",
        "    catf = []\n",
        "    numf = []\n",
        "    \n",
        "    # Given Categorical Features \n",
        "    catf = ['ProductCD', 'card1', 'card2', 'card3', 'card4', 'card5', \\\n",
        "            'card6', 'addr1', 'addr2', 'P_emaildomain', 'R_emaildomain', 'M1', 'M2', \\\n",
        "            'M3', 'M4', 'M5', 'M6', 'M7', 'M8', 'M9', \\\n",
        "            'DeviceType', 'DeviceInfo']\n",
        "    catf+=['id_'+str(i) for i in range(12,39)]\n",
        "\n",
        "\n",
        "    # Updating the Categorical Feature Names List based on the columns present in the dataframe\n",
        "    catf = [feature for feature in catf if feature in df.columns.values]\n",
        "    numf = [feature for feature in df.columns if feature not in catf and not feature == 'isFraud']\n",
        "    \n",
        "    return (catf, numf)  "
      ]
    },
    {
      "cell_type": "code",
      "execution_count": 74,
      "id": "3a6b4ccc",
      "metadata": {},
      "outputs": [],
      "source": [
        "def label_encode(X_train, catf):\n",
        "  \n",
        "  '''\n",
        "    Utility Function to Encode Categorical Features.\n",
        "  '''\n",
        "\n",
        "  for f in catf:\n",
        "    \n",
        "    X_train[f] = X_train[f].astype(str)\n",
        "    \n",
        "    le = LabelEncoder()\n",
        "    le.fit(X_train[f])\n",
        "    mapping = dict(zip(le.classes_, le.transform(le.classes_)))\n",
        "    X_train[f] = le.transform(X_train[f])\n",
        "    \n",
        "    # Manually Encoding the CV and Test Dataset so as to avoid error for any category which is not present in train set\n",
        "    \n",
        "\n",
        "  return (X_train)"
      ]
    },
    {
      "cell_type": "markdown",
      "id": "9dd59e19",
      "metadata": {
        "id": "9dd59e19"
      },
      "source": [
        "## Data Preparation\n",
        "<br>"
      ]
    },
    {
      "cell_type": "markdown",
      "id": "rQTzZJCOXX6R",
      "metadata": {
        "id": "rQTzZJCOXX6R"
      },
      "source": [
        "### Splitting the Dataset\n",
        "<br>"
      ]
    },
    {
      "cell_type": "code",
      "execution_count": 75,
      "id": "e75daf6b",
      "metadata": {
        "id": "e75daf6b"
      },
      "outputs": [],
      "source": [
        "x = train_data.drop(['isFraud', 'TransactionID'], axis=1)\n",
        "y = train_data['isFraud']\n",
        "\n"
      ]
    },
    {
      "cell_type": "code",
      "execution_count": 76,
      "id": "08ddc3d8",
      "metadata": {
        "colab": {
          "base_uri": "https://localhost:8080/"
        },
        "id": "08ddc3d8",
        "outputId": "77144020-0d80-4ba8-f282-71736cbbd21d",
        "scrolled": true
      },
      "outputs": [
        {
          "name": "stdout",
          "output_type": "stream",
          "text": [
            "*********************************************\n",
            "\n",
            " Train Data Shape : (590540, 432) \n",
            "\n",
            "*********************************************\n"
          ]
        }
      ],
      "source": [
        "print(\"*\"*45)\n",
        "print(\"\\n Train Data Shape : {} \\n\".format(x.shape))\n",
        "print(\"*\"*45)"
      ]
    },
    {
      "cell_type": "code",
      "execution_count": 77,
      "id": "712e6afc",
      "metadata": {
        "id": "712e6afc"
      },
      "outputs": [],
      "source": [
        "# Storing Categorical and Numerical Feature Names \n",
        "\n",
        "catf, numf = cat_num_features(x)\n",
        "categorical_feature_indices = [x.columns.get_loc(f) for f in catf]"
      ]
    },
    {
      "cell_type": "markdown",
      "id": "a50561e7",
      "metadata": {
        "id": "a50561e7"
      },
      "source": [
        "#### Label Encoding Categorical Features\n",
        "<br>\n",
        "We will be creating three sets, one having imputed missing values to be used with models which do not handle missing values on their own and the other whose missing values will be imputed and also it will be scaled between 0 and 1 to be used with models like Naive Bayes and Logisitic Regression and the third which is to be used with model like XgBoost which can handle missing values on its own.\n",
        "<br><br>"
      ]
    },
    {
      "cell_type": "code",
      "execution_count": 78,
      "id": "725b5698",
      "metadata": {},
      "outputs": [],
      "source": [
        "x = label_encode(x, catf)"
      ]
    },
    {
      "cell_type": "code",
      "execution_count": 59,
      "id": "3432d35f",
      "metadata": {
        "id": "3432d35f"
      },
      "outputs": [],
      "source": [
        "# Imputing the missing values of Categorical Columns with \"missing\"\n",
        "\n",
        "x[catf] = x[catf].fillna('missing')\n"
      ]
    },
    {
      "cell_type": "code",
      "execution_count": 79,
      "id": "10320f4d",
      "metadata": {
        "id": "10320f4d"
      },
      "outputs": [],
      "source": [
        "# Imputed and Normalized\n",
        "\n",
        "x[numf] =x[numf].fillna(-999)\n",
        "x[numf] = preprocessing.normalize(x[numf])"
      ]
    },
    {
      "cell_type": "code",
      "execution_count": 80,
      "id": "2ae9a941",
      "metadata": {},
      "outputs": [],
      "source": [
        "high_null_features_train = [f for f in x.columns if x[f].isna().sum()/len(x) > 0.9]\n",
        "\n",
        "one_value_features_train = [f for f in x.columns if x[f].nunique()<=1]\n",
        "\n",
        "constant_value_features_train = [f for f in x.columns if x[f].value_counts(dropna=False, normalize=True).values[0] > 0.9]\n",
        "drop_cols = list(set(high_null_features_train+\\\n",
        "                     one_value_features_train+\\\n",
        "                     constant_value_features_train))\n",
        "\n",
        "if 'isFraud' in drop_cols:\n",
        "  drop_cols.remove('isFraud')\n",
        "\n",
        "x.drop(drop_cols, axis=1, inplace=True)\n",
        "# Storing the updated Categorical and Numerical Feature Names \n",
        "\n",
        "catf, numf = cat_num_features(x)\n",
        "categorical_feature_indices = [x.columns.get_loc(f) for f in catf]"
      ]
    },
    {
      "cell_type": "code",
      "execution_count": 81,
      "id": "ed049cdd",
      "metadata": {},
      "outputs": [],
      "source": [
        "smote = SMOTE()\n",
        "x_smote, y_smote = smote.fit_resample(x, y)"
      ]
    },
    {
      "cell_type": "code",
      "execution_count": 82,
      "id": "ed356636",
      "metadata": {},
      "outputs": [],
      "source": [
        "X_train, X_test, y_train, y_test = train_test_split(x_smote, x_smote)"
      ]
    },
    {
      "cell_type": "code",
      "execution_count": 83,
      "id": "a8910dec",
      "metadata": {},
      "outputs": [
        {
          "name": "stdout",
          "output_type": "stream",
          "text": [
            "************************************************************\n",
            "\n",
            " Train Dataset Set1 Shape : (854815, 391) \n",
            "\n",
            "\n",
            " Test Dataset Set1 Shape : (284939, 391) \n",
            "\n",
            "************************************************************\n"
          ]
        }
      ],
      "source": [
        "print(\"*\"*60)\n",
        "print(\"\\n Train Dataset Set1 Shape : {} \\n\".format(X_train.shape))\n",
        "print(\"\\n Test Dataset Set1 Shape : {} \\n\".format(X_test.shape))\n",
        "print(\"*\"*60)"
      ]
    },
    {
      "cell_type": "markdown",
      "id": "48d2678b",
      "metadata": {
        "id": "48d2678b"
      },
      "source": [
        "## Base Line Models\n",
        "<br>"
      ]
    },
    {
      "cell_type": "markdown",
      "id": "2ba10ea9",
      "metadata": {
        "id": "2ba10ea9"
      },
      "source": [
        "<br>\n",
        "\n",
        "### 1. Naive Bayes\n",
        "\n",
        "<br>"
      ]
    },
    {
      "cell_type": "code",
      "execution_count": 84,
      "id": "bc1eab3f",
      "metadata": {
        "id": "bc1eab3f",
        "outputId": "24a57974-e8da-4953-ee3b-a6bf1bb027da"
      },
      "outputs": [
        {
          "ename": "ValueError",
          "evalue": "y should be a 1d array, got an array of shape (854815, 391) instead.",
          "output_type": "error",
          "traceback": [
            "\u001b[0;31m---------------------------------------------------------------------------\u001b[0m",
            "\u001b[0;31mValueError\u001b[0m                                Traceback (most recent call last)",
            "\u001b[0;32m<ipython-input-84-8e170b029dae>\u001b[0m in \u001b[0;36m<module>\u001b[0;34m\u001b[0m\n\u001b[1;32m      1\u001b[0m \u001b[0mnb\u001b[0m \u001b[0;34m=\u001b[0m \u001b[0mGaussianNB\u001b[0m\u001b[0;34m(\u001b[0m\u001b[0mpriors\u001b[0m\u001b[0;34m=\u001b[0m\u001b[0;34m[\u001b[0m\u001b[0;36m0.5\u001b[0m\u001b[0;34m,\u001b[0m\u001b[0;36m0.5\u001b[0m\u001b[0;34m]\u001b[0m\u001b[0;34m)\u001b[0m\u001b[0;34m\u001b[0m\u001b[0;34m\u001b[0m\u001b[0m\n\u001b[0;32m----> 2\u001b[0;31m \u001b[0mnb\u001b[0m\u001b[0;34m.\u001b[0m\u001b[0mfit\u001b[0m\u001b[0;34m(\u001b[0m\u001b[0mX_train\u001b[0m\u001b[0;34m,\u001b[0m \u001b[0my_train\u001b[0m\u001b[0;34m)\u001b[0m\u001b[0;34m\u001b[0m\u001b[0;34m\u001b[0m\u001b[0m\n\u001b[0m",
            "\u001b[0;32m~/opt/anaconda3/lib/python3.8/site-packages/sklearn/naive_bayes.py\u001b[0m in \u001b[0;36mfit\u001b[0;34m(self, X, y, sample_weight)\u001b[0m\n\u001b[1;32m    208\u001b[0m         \u001b[0mself\u001b[0m \u001b[0;34m:\u001b[0m \u001b[0mobject\u001b[0m\u001b[0;34m\u001b[0m\u001b[0;34m\u001b[0m\u001b[0m\n\u001b[1;32m    209\u001b[0m         \"\"\"\n\u001b[0;32m--> 210\u001b[0;31m         \u001b[0mX\u001b[0m\u001b[0;34m,\u001b[0m \u001b[0my\u001b[0m \u001b[0;34m=\u001b[0m \u001b[0mself\u001b[0m\u001b[0;34m.\u001b[0m\u001b[0m_validate_data\u001b[0m\u001b[0;34m(\u001b[0m\u001b[0mX\u001b[0m\u001b[0;34m,\u001b[0m \u001b[0my\u001b[0m\u001b[0;34m)\u001b[0m\u001b[0;34m\u001b[0m\u001b[0;34m\u001b[0m\u001b[0m\n\u001b[0m\u001b[1;32m    211\u001b[0m         \u001b[0my\u001b[0m \u001b[0;34m=\u001b[0m \u001b[0mcolumn_or_1d\u001b[0m\u001b[0;34m(\u001b[0m\u001b[0my\u001b[0m\u001b[0;34m,\u001b[0m \u001b[0mwarn\u001b[0m\u001b[0;34m=\u001b[0m\u001b[0;32mTrue\u001b[0m\u001b[0;34m)\u001b[0m\u001b[0;34m\u001b[0m\u001b[0;34m\u001b[0m\u001b[0m\n\u001b[1;32m    212\u001b[0m         return self._partial_fit(X, y, np.unique(y), _refit=True,\n",
            "\u001b[0;32m~/opt/anaconda3/lib/python3.8/site-packages/sklearn/base.py\u001b[0m in \u001b[0;36m_validate_data\u001b[0;34m(self, X, y, reset, validate_separately, **check_params)\u001b[0m\n\u001b[1;32m    430\u001b[0m                 \u001b[0my\u001b[0m \u001b[0;34m=\u001b[0m \u001b[0mcheck_array\u001b[0m\u001b[0;34m(\u001b[0m\u001b[0my\u001b[0m\u001b[0;34m,\u001b[0m \u001b[0;34m**\u001b[0m\u001b[0mcheck_y_params\u001b[0m\u001b[0;34m)\u001b[0m\u001b[0;34m\u001b[0m\u001b[0;34m\u001b[0m\u001b[0m\n\u001b[1;32m    431\u001b[0m             \u001b[0;32melse\u001b[0m\u001b[0;34m:\u001b[0m\u001b[0;34m\u001b[0m\u001b[0;34m\u001b[0m\u001b[0m\n\u001b[0;32m--> 432\u001b[0;31m                 \u001b[0mX\u001b[0m\u001b[0;34m,\u001b[0m \u001b[0my\u001b[0m \u001b[0;34m=\u001b[0m \u001b[0mcheck_X_y\u001b[0m\u001b[0;34m(\u001b[0m\u001b[0mX\u001b[0m\u001b[0;34m,\u001b[0m \u001b[0my\u001b[0m\u001b[0;34m,\u001b[0m \u001b[0;34m**\u001b[0m\u001b[0mcheck_params\u001b[0m\u001b[0;34m)\u001b[0m\u001b[0;34m\u001b[0m\u001b[0;34m\u001b[0m\u001b[0m\n\u001b[0m\u001b[1;32m    433\u001b[0m             \u001b[0mout\u001b[0m \u001b[0;34m=\u001b[0m \u001b[0mX\u001b[0m\u001b[0;34m,\u001b[0m \u001b[0my\u001b[0m\u001b[0;34m\u001b[0m\u001b[0;34m\u001b[0m\u001b[0m\n\u001b[1;32m    434\u001b[0m \u001b[0;34m\u001b[0m\u001b[0m\n",
            "\u001b[0;32m~/opt/anaconda3/lib/python3.8/site-packages/sklearn/utils/validation.py\u001b[0m in \u001b[0;36minner_f\u001b[0;34m(*args, **kwargs)\u001b[0m\n\u001b[1;32m     70\u001b[0m                           FutureWarning)\n\u001b[1;32m     71\u001b[0m         \u001b[0mkwargs\u001b[0m\u001b[0;34m.\u001b[0m\u001b[0mupdate\u001b[0m\u001b[0;34m(\u001b[0m\u001b[0;34m{\u001b[0m\u001b[0mk\u001b[0m\u001b[0;34m:\u001b[0m \u001b[0marg\u001b[0m \u001b[0;32mfor\u001b[0m \u001b[0mk\u001b[0m\u001b[0;34m,\u001b[0m \u001b[0marg\u001b[0m \u001b[0;32min\u001b[0m \u001b[0mzip\u001b[0m\u001b[0;34m(\u001b[0m\u001b[0msig\u001b[0m\u001b[0;34m.\u001b[0m\u001b[0mparameters\u001b[0m\u001b[0;34m,\u001b[0m \u001b[0margs\u001b[0m\u001b[0;34m)\u001b[0m\u001b[0;34m}\u001b[0m\u001b[0;34m)\u001b[0m\u001b[0;34m\u001b[0m\u001b[0;34m\u001b[0m\u001b[0m\n\u001b[0;32m---> 72\u001b[0;31m         \u001b[0;32mreturn\u001b[0m \u001b[0mf\u001b[0m\u001b[0;34m(\u001b[0m\u001b[0;34m**\u001b[0m\u001b[0mkwargs\u001b[0m\u001b[0;34m)\u001b[0m\u001b[0;34m\u001b[0m\u001b[0;34m\u001b[0m\u001b[0m\n\u001b[0m\u001b[1;32m     73\u001b[0m     \u001b[0;32mreturn\u001b[0m \u001b[0minner_f\u001b[0m\u001b[0;34m\u001b[0m\u001b[0;34m\u001b[0m\u001b[0m\n\u001b[1;32m     74\u001b[0m \u001b[0;34m\u001b[0m\u001b[0m\n",
            "\u001b[0;32m~/opt/anaconda3/lib/python3.8/site-packages/sklearn/utils/validation.py\u001b[0m in \u001b[0;36mcheck_X_y\u001b[0;34m(X, y, accept_sparse, accept_large_sparse, dtype, order, copy, force_all_finite, ensure_2d, allow_nd, multi_output, ensure_min_samples, ensure_min_features, y_numeric, estimator)\u001b[0m\n\u001b[1;32m    805\u001b[0m                         ensure_2d=False, dtype=None)\n\u001b[1;32m    806\u001b[0m     \u001b[0;32melse\u001b[0m\u001b[0;34m:\u001b[0m\u001b[0;34m\u001b[0m\u001b[0;34m\u001b[0m\u001b[0m\n\u001b[0;32m--> 807\u001b[0;31m         \u001b[0my\u001b[0m \u001b[0;34m=\u001b[0m \u001b[0mcolumn_or_1d\u001b[0m\u001b[0;34m(\u001b[0m\u001b[0my\u001b[0m\u001b[0;34m,\u001b[0m \u001b[0mwarn\u001b[0m\u001b[0;34m=\u001b[0m\u001b[0;32mTrue\u001b[0m\u001b[0;34m)\u001b[0m\u001b[0;34m\u001b[0m\u001b[0;34m\u001b[0m\u001b[0m\n\u001b[0m\u001b[1;32m    808\u001b[0m         \u001b[0m_assert_all_finite\u001b[0m\u001b[0;34m(\u001b[0m\u001b[0my\u001b[0m\u001b[0;34m)\u001b[0m\u001b[0;34m\u001b[0m\u001b[0;34m\u001b[0m\u001b[0m\n\u001b[1;32m    809\u001b[0m     \u001b[0;32mif\u001b[0m \u001b[0my_numeric\u001b[0m \u001b[0;32mand\u001b[0m \u001b[0my\u001b[0m\u001b[0;34m.\u001b[0m\u001b[0mdtype\u001b[0m\u001b[0;34m.\u001b[0m\u001b[0mkind\u001b[0m \u001b[0;34m==\u001b[0m \u001b[0;34m'O'\u001b[0m\u001b[0;34m:\u001b[0m\u001b[0;34m\u001b[0m\u001b[0;34m\u001b[0m\u001b[0m\n",
            "\u001b[0;32m~/opt/anaconda3/lib/python3.8/site-packages/sklearn/utils/validation.py\u001b[0m in \u001b[0;36minner_f\u001b[0;34m(*args, **kwargs)\u001b[0m\n\u001b[1;32m     70\u001b[0m                           FutureWarning)\n\u001b[1;32m     71\u001b[0m         \u001b[0mkwargs\u001b[0m\u001b[0;34m.\u001b[0m\u001b[0mupdate\u001b[0m\u001b[0;34m(\u001b[0m\u001b[0;34m{\u001b[0m\u001b[0mk\u001b[0m\u001b[0;34m:\u001b[0m \u001b[0marg\u001b[0m \u001b[0;32mfor\u001b[0m \u001b[0mk\u001b[0m\u001b[0;34m,\u001b[0m \u001b[0marg\u001b[0m \u001b[0;32min\u001b[0m \u001b[0mzip\u001b[0m\u001b[0;34m(\u001b[0m\u001b[0msig\u001b[0m\u001b[0;34m.\u001b[0m\u001b[0mparameters\u001b[0m\u001b[0;34m,\u001b[0m \u001b[0margs\u001b[0m\u001b[0;34m)\u001b[0m\u001b[0;34m}\u001b[0m\u001b[0;34m)\u001b[0m\u001b[0;34m\u001b[0m\u001b[0;34m\u001b[0m\u001b[0m\n\u001b[0;32m---> 72\u001b[0;31m         \u001b[0;32mreturn\u001b[0m \u001b[0mf\u001b[0m\u001b[0;34m(\u001b[0m\u001b[0;34m**\u001b[0m\u001b[0mkwargs\u001b[0m\u001b[0;34m)\u001b[0m\u001b[0;34m\u001b[0m\u001b[0;34m\u001b[0m\u001b[0m\n\u001b[0m\u001b[1;32m     73\u001b[0m     \u001b[0;32mreturn\u001b[0m \u001b[0minner_f\u001b[0m\u001b[0;34m\u001b[0m\u001b[0;34m\u001b[0m\u001b[0m\n\u001b[1;32m     74\u001b[0m \u001b[0;34m\u001b[0m\u001b[0m\n",
            "\u001b[0;32m~/opt/anaconda3/lib/python3.8/site-packages/sklearn/utils/validation.py\u001b[0m in \u001b[0;36mcolumn_or_1d\u001b[0;34m(y, warn)\u001b[0m\n\u001b[1;32m    843\u001b[0m         \u001b[0;32mreturn\u001b[0m \u001b[0mnp\u001b[0m\u001b[0;34m.\u001b[0m\u001b[0mravel\u001b[0m\u001b[0;34m(\u001b[0m\u001b[0my\u001b[0m\u001b[0;34m)\u001b[0m\u001b[0;34m\u001b[0m\u001b[0;34m\u001b[0m\u001b[0m\n\u001b[1;32m    844\u001b[0m \u001b[0;34m\u001b[0m\u001b[0m\n\u001b[0;32m--> 845\u001b[0;31m     raise ValueError(\n\u001b[0m\u001b[1;32m    846\u001b[0m         \u001b[0;34m\"y should be a 1d array, \"\u001b[0m\u001b[0;34m\u001b[0m\u001b[0;34m\u001b[0m\u001b[0m\n\u001b[1;32m    847\u001b[0m         \"got an array of shape {} instead.\".format(shape))\n",
            "\u001b[0;31mValueError\u001b[0m: y should be a 1d array, got an array of shape (854815, 391) instead."
          ]
        }
      ],
      "source": [
        "nb = GaussianNB(priors=[0.5,0.5]) \n",
        "nb.fit(X_train, y_train)"
      ]
    },
    {
      "cell_type": "code",
      "execution_count": null,
      "id": "56f447fe",
      "metadata": {
        "id": "56f447fe"
      },
      "outputs": [
        {
          "data": {
            "text/plain": [
              "([<matplotlib.axis.YTick at 0x7fd2a04565b0>,\n",
              "  <matplotlib.axis.YTick at 0x7fd2a0456f70>],\n",
              " [Text(0, 0.5, 'False'), Text(0, 1.5, 'True')])"
            ]
          },
          "execution_count": 70,
          "metadata": {},
          "output_type": "execute_result"
        },
        {
          "data": {
            "image/png": "[encoded data removed]",
            "text/plain": [
              "<Figure size 504x432 with 2 Axes>"
            ]
          },
          "metadata": {
            "needs_background": "light"
          },
          "output_type": "display_data"
        }
      ],
      "source": [
        "y_predr = nb.predict(X_test)\n",
        "cnf_matrix = confusion_matrix(y_test, y_predr)\n",
        "%matplotlib inline\n",
        "class_names=[False, True] # name  of classes\n",
        "fig, ax = plt.subplots(figsize=(7, 6))\n",
        "sns.heatmap(pd.DataFrame(cnf_matrix), annot=True, cmap=\"YlGnBu\", fmt='g')\n",
        "ax.xaxis.set_label_position(\"top\")\n",
        "plt.tight_layout()\n",
        "plt.title('Confusion matrix')\n",
        "plt.ylabel('Actual label')\n",
        "plt.xlabel('Predicted label')\n",
        "tick_marks = [0.5, 1.5]\n",
        "plt.xticks(tick_marks, class_names)\n",
        "plt.yticks(tick_marks, class_names)"
      ]
    },
    {
      "cell_type": "markdown",
      "id": "773e6871",
      "metadata": {
        "id": "773e6871"
      },
      "source": [
        "<br>\n",
        "\n",
        "### 2. Logistic Regression\n",
        "\n",
        "<br>"
      ]
    },
    {
      "cell_type": "code",
      "execution_count": 73,
      "id": "ffe86e7b",
      "metadata": {
        "id": "ffe86e7b",
        "outputId": "2581b7b8-8daa-473d-ef00-d5961ac3f4b9",
        "scrolled": true
      },
      "outputs": [
        {
          "data": {
            "text/plain": [
              "LogisticRegression(class_weight='balanced', n_jobs=-1, random_state=3)"
            ]
          },
          "execution_count": 73,
          "metadata": {},
          "output_type": "execute_result"
        }
      ],
      "source": [
        "lr = LogisticRegression(n_jobs = -1, class_weight = 'balanced', random_state = 3) \n",
        "lr.fit(X_train, y_train)"
      ]
    },
    {
      "cell_type": "code",
      "execution_count": 74,
      "id": "82b04f35",
      "metadata": {
        "id": "82b04f35"
      },
      "outputs": [
        {
          "data": {
            "text/plain": [
              "([<matplotlib.axis.YTick at 0x7fd6cb7cb9a0>,\n",
              "  <matplotlib.axis.YTick at 0x7fd6cb7cb580>],\n",
              " [Text(0, 0.5, 'False'), Text(0, 1.5, 'True')])"
            ]
          },
          "execution_count": 74,
          "metadata": {},
          "output_type": "execute_result"
        },
        {
          "data": {
            "image/png": "[encoded data removed]",
            "text/plain": [
              "<Figure size 504x432 with 2 Axes>"
            ]
          },
          "metadata": {
            "needs_background": "light"
          },
          "output_type": "display_data"
        }
      ],
      "source": [
        "y_pred = nb.predict(X_test)\n",
        "cnf_matrix = confusion_matrix(y_test, y_pred)\n",
        "%matplotlib inline\n",
        "class_names=[False, True] # name  of classes\n",
        "fig, ax = plt.subplots(figsize=(7, 6))\n",
        "sns.heatmap(pd.DataFrame(cnf_matrix), annot=True, cmap=\"YlGnBu\", fmt='g')\n",
        "ax.xaxis.set_label_position(\"top\")\n",
        "plt.tight_layout()\n",
        "plt.title('Confusion matrix')\n",
        "plt.ylabel('Actual label')\n",
        "plt.xlabel('Predicted label')\n",
        "tick_marks = [0.5, 1.5]\n",
        "plt.xticks(tick_marks, class_names)\n",
        "plt.yticks(tick_marks, class_names)"
      ]
    },
    {
      "cell_type": "markdown",
      "id": "2ae3eb8c",
      "metadata": {
        "id": "2ae3eb8c"
      },
      "source": [
        "<br>\n",
        "\n",
        "### 3. Random Forest\n",
        "\n",
        "<br>"
      ]
    },
    {
      "cell_type": "code",
      "execution_count": 75,
      "id": "aa8d1def",
      "metadata": {},
      "outputs": [
        {
          "data": {
            "text/plain": [
              "RandomForestClassifier(class_weight='balanced', n_jobs=-1, random_state=3)"
            ]
          },
          "execution_count": 75,
          "metadata": {},
          "output_type": "execute_result"
        }
      ],
      "source": [
        "rf =  RandomForestClassifier(n_jobs = -1, class_weight = 'balanced', random_state = 3)\n",
        "rf.fit(X_train, y_train)"
      ]
    },
    {
      "cell_type": "code",
      "execution_count": 76,
      "id": "b7b3cf41",
      "metadata": {},
      "outputs": [
        {
          "data": {
            "text/plain": [
              "([<matplotlib.axis.YTick at 0x7fd6cb4484c0>,\n",
              "  <matplotlib.axis.YTick at 0x7fd6cb448e20>],\n",
              " [Text(0, 0.5, 'False'), Text(0, 1.5, 'True')])"
            ]
          },
          "execution_count": 76,
          "metadata": {},
          "output_type": "execute_result"
        },
        {
          "data": {
            "image/png": "[encoded data removed]",
            "text/plain": [
              "<Figure size 504x432 with 2 Axes>"
            ]
          },
          "metadata": {
            "needs_background": "light"
          },
          "output_type": "display_data"
        }
      ],
      "source": [
        "y_pred = nb.predict(X_test)\n",
        "cnf_matrix = confusion_matrix(y_test, y_pred)\n",
        "%matplotlib inline\n",
        "class_names=[False, True] # name  of classes\n",
        "fig, ax = plt.subplots(figsize=(7, 6))\n",
        "sns.heatmap(pd.DataFrame(cnf_matrix), annot=True, cmap=\"YlGnBu\", fmt='g')\n",
        "ax.xaxis.set_label_position(\"top\")\n",
        "plt.tight_layout()\n",
        "plt.title('Confusion matrix')\n",
        "plt.ylabel('Actual label')\n",
        "plt.xlabel('Predicted label')\n",
        "tick_marks = [0.5, 1.5]\n",
        "plt.xticks(tick_marks, class_names)\n",
        "plt.yticks(tick_marks, class_names)"
      ]
    },
    {
      "cell_type": "markdown",
      "id": "bda6619d",
      "metadata": {},
      "source": [
        "<br>\n",
        "\n",
        "### 6. Support Vector Machine\n",
        "\n",
        "<br>"
      ]
    },
    {
      "cell_type": "code",
      "execution_count": 78,
      "id": "7ba4a98d",
      "metadata": {},
      "outputs": [],
      "source": [
        "sv = SVC()\n",
        "sv.fit(X_train, y_train)\n"
      ]
    },
    {
      "cell_type": "code",
      "execution_count": null,
      "id": "9dcae630",
      "metadata": {},
      "outputs": [],
      "source": [
        "y_pred = nb.predict(X_test)\n",
        "cnf_matrix = confusion_matrix(y_test, y_pred)\n",
        "%matplotlib inline\n",
        "class_names=[False, True] # name  of classes\n",
        "fig, ax = plt.subplots(figsize=(7, 6))\n",
        "sns.heatmap(pd.DataFrame(cnf_matrix), annot=True, cmap=\"YlGnBu\", fmt='g')\n",
        "ax.xaxis.set_label_position(\"top\")\n",
        "plt.tight_layout()\n",
        "plt.title('Confusion matrix')\n",
        "plt.ylabel('Actual label')\n",
        "plt.xlabel('Predicted label')\n",
        "tick_marks = [0.5, 1.5]\n",
        "plt.xticks(tick_marks, class_names)\n",
        "plt.yticks(tick_marks, class_names)"
      ]
    },
    {
      "cell_type": "markdown",
      "id": "1a02f819",
      "metadata": {
        "id": "1a02f819"
      },
      "source": [
        "<br>\n",
        "\n",
        "### 7. Gradient Boosted Decision Tree (XGBoost)\n",
        "\n",
        "<br>"
      ]
    },
    {
      "cell_type": "code",
      "execution_count": null,
      "id": "6b91aa61",
      "metadata": {
        "colab": {
          "base_uri": "https://localhost:8080/"
        },
        "id": "6b91aa61",
        "outputId": "2375d62a-c3a5-4d35-b6b5-00b032fdc0d9"
      },
      "outputs": [
        {
          "data": {
            "text/plain": [
              "XGBClassifier(base_score=0.5, booster='gbtree', colsample_bylevel=1,\n",
              "              colsample_bynode=1, colsample_bytree=1, eval_metric='auc',\n",
              "              gamma=0, learning_rate=0.1, max_delta_step=0, max_depth=3,\n",
              "              min_child_weight=1, missing=None, n_estimators=100, n_jobs=1,\n",
              "              nthread=None, objective='binary:logistic', random_state=3,\n",
              "              reg_alpha=0, reg_lambda=1, scale_pos_weight=27.579586700866283,\n",
              "              seed=None, silent=None, subsample=1, tree_method='gpu_hist',\n",
              "              verbosity=1)"
            ]
          },
          "execution_count": 25,
          "metadata": {
            "tags": []
          },
          "output_type": "execute_result"
        }
      ],
      "source": [
        "param_grid = {'gamma': [0.1,0.2,0.4],\n",
        "              'learning_rate': [0.01, 0.03, 0.06],\n",
        "              'max_depth': [5,6,7],\n",
        "              'n_estimators': [50,65,80],\n",
        "              'reg_alpha': [0,0.1,0.2,0.4],\n",
        "              'reg_lambda': [0,0.1,0.2,0.4]}\n",
        "grid = GridSearchCV(XGBClassifier(objective='binary:logistic'), param_grid, refit = True, verbose = 3)\n",
        "grid.fit(X_train, y_train)\n",
        "print(grid.best_params_)\n",
        "print(grid.best_estimator_)"
      ]
    },
    {
      "cell_type": "code",
      "execution_count": null,
      "id": "40974125",
      "metadata": {
        "id": "40974125"
      },
      "outputs": [],
      "source": [
        "y_pred = nb.predict(X_test)\n",
        "cnf_matrix = confusion_matrix(y_test, y_pred)\n",
        "%matplotlib inline\n",
        "class_names=[False, True] # name  of classes\n",
        "fig, ax = plt.subplots(figsize=(7, 6))\n",
        "sns.heatmap(pd.DataFrame(cnf_matrix), annot=True, cmap=\"YlGnBu\", fmt='g')\n",
        "ax.xaxis.set_label_position(\"top\")\n",
        "plt.tight_layout()\n",
        "plt.title('Confusion matrix')\n",
        "plt.ylabel('Actual label')\n",
        "plt.xlabel('Predicted label')\n",
        "tick_marks = [0.5, 1.5]\n",
        "plt.xticks(tick_marks, class_names)\n",
        "plt.yticks(tick_marks, class_names)"
      ]
    }
  ],
  "metadata": {
    "accelerator": "GPU",
    "colab": {
      "collapsed_sections": [],
      "machine_shape": "hm",
      "name": "2.Baseline_Models.ipynb",
      "provenance": []
    },
    "interpreter": {
      "hash": "6c1cd336c75cb671acd623a1361b1d53cb5a4c122912c1fc5f64ed28ffbea65a"
    },
    "kernelspec": {
      "display_name": "Python 3.8.5 ('base')",
      "language": "python",
      "name": "python3"
    },
    "language_info": {
      "codemirror_mode": {
        "name": "ipython",
        "version": 3
      },
      "file_extension": ".py",
      "mimetype": "text/x-python",
      "name": "python",
      "nbconvert_exporter": "python",
      "pygments_lexer": "ipython3",
      "version": "3.8.5"
    }
  },
  "nbformat": 4,
  "nbformat_minor": 5
}
