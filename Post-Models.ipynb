{
  "cells": [
    {
      "cell_type": "code",
      "execution_count": 48,
      "id": "da6213d9",
      "metadata": {
        "id": "da6213d9"
      },
      "outputs": [],
      "source": [
        "import random\n",
        "import pickle\n",
        "import numpy as np\n",
        "import pandas as pd\n",
        "import seaborn as sns\n",
        "import matplotlib.pyplot as plt\n",
        "%matplotlib inline\n",
        "from prettytable import PrettyTable\n",
        "import sklearn\n",
        "from sklearn import metrics\n",
        "from sklearn.naive_bayes import GaussianNB\n",
        "from sklearn.linear_model import LogisticRegression\n",
        "from sklearn.tree import DecisionTreeClassifier\n",
        "from sklearn.ensemble import RandomForestClassifier, AdaBoostClassifier\n",
        "from xgboost import XGBClassifier\n",
        "from sklearn.model_selection import TimeSeriesSplit, train_test_split, GridSearchCV\n",
        "from sklearn.preprocessing import LabelEncoder\n",
        "from sklearn.metrics import roc_auc_score\n",
        "from sklearn.calibration import CalibratedClassifierCV\n",
        "from sklearn.metrics import confusion_matrix\n",
        "from sklearn.svm import SVC\n",
        "from sklearn import preprocessing\n",
        "from imblearn.over_sampling import SMOTE\n",
        "from sklearn.metrics import classification_report\n",
        "from sklearn.neural_network import MLPClassifier\n",
        "import warnings\n",
        "warnings.filterwarnings(\"ignore\")"
      ]
    },
    {
      "cell_type": "code",
      "execution_count": 49,
      "id": "8bbc073b",
      "metadata": {
        "id": "8bbc073b"
      },
      "outputs": [],
      "source": [
        "train_data = pd.read_pickle('merged_train.pkl')"
      ]
    },
    {
      "cell_type": "code",
      "execution_count": 27,
      "id": "0480f790",
      "metadata": {
        "colab": {
          "base_uri": "https://localhost:8080/"
        },
        "id": "0480f790",
        "outputId": "952b0383-9933-433d-d17d-5253ddb29d97"
      },
      "outputs": [
        {
          "name": "stdout",
          "output_type": "stream",
          "text": [
            "*********************************************\n",
            "\n",
            " Train Data Shape : (590540, 434) \n",
            "\n",
            "*********************************************\n"
          ]
        }
      ],
      "source": [
        "print(\"*\"*45)\n",
        "print(\"\\n Train Data Shape : {} \\n\".format(train_data.shape))\n",
        "print(\"*\"*45)"
      ]
    },
    {
      "cell_type": "markdown",
      "id": "eO36Arb_F0_7",
      "metadata": {
        "id": "eO36Arb_F0_7"
      },
      "source": [
        "## Utility Functions\n",
        "<br>"
      ]
    },
    {
      "cell_type": "code",
      "execution_count": 50,
      "id": "780a3e54",
      "metadata": {
        "id": "780a3e54"
      },
      "outputs": [],
      "source": [
        "def cat_num_features(df):\n",
        "    catf = []\n",
        "    numf = []\n",
        "    catf = ['ProductCD', 'card1', 'card2', 'card3', 'card4', 'card5', \\\n",
        "            'card6', 'addr1', 'addr2', 'P_emaildomain', 'R_emaildomain', 'M1', 'M2', \\\n",
        "            'M3', 'M4', 'M5', 'M6', 'M7', 'M8', 'M9', \\\n",
        "            'DeviceType', 'DeviceInfo']\n",
        "    catf+=['id_'+str(i) for i in range(12,39)]\n",
        "    catf = [feature for feature in catf if feature in df.columns.values]\n",
        "    numf = [feature for feature in df.columns if feature not in catf and not feature == 'isFraud']\n",
        "    return (catf, numf)  "
      ]
    },
    {
      "cell_type": "code",
      "execution_count": 51,
      "id": "3a6b4ccc",
      "metadata": {},
      "outputs": [],
      "source": [
        "def label_encode(X_train, catf):\n",
        "  for f in catf:\n",
        "    \n",
        "    X_train[f] = X_train[f].astype(str)\n",
        "    \n",
        "    le = LabelEncoder()\n",
        "    le.fit(X_train[f])\n",
        "    mapping = dict(zip(le.classes_, le.transform(le.classes_)))\n",
        "    X_train[f] = le.transform(X_train[f])\n",
        "  return (X_train)"
      ]
    },
    {
      "cell_type": "markdown",
      "id": "9dd59e19",
      "metadata": {
        "id": "9dd59e19"
      },
      "source": [
        "## Data Preparation\n",
        "<br>"
      ]
    },
    {
      "cell_type": "markdown",
      "id": "rQTzZJCOXX6R",
      "metadata": {
        "id": "rQTzZJCOXX6R"
      },
      "source": [
        "### Splitting the Dataset\n",
        "<br>"
      ]
    },
    {
      "cell_type": "code",
      "execution_count": 52,
      "id": "e75daf6b",
      "metadata": {
        "id": "e75daf6b"
      },
      "outputs": [],
      "source": [
        "x = train_data.drop(['isFraud', 'TransactionID'], axis=1)\n",
        "y = train_data['isFraud']"
      ]
    },
    {
      "cell_type": "code",
      "execution_count": 53,
      "id": "08ddc3d8",
      "metadata": {
        "colab": {
          "base_uri": "https://localhost:8080/"
        },
        "id": "08ddc3d8",
        "outputId": "77144020-0d80-4ba8-f282-71736cbbd21d",
        "scrolled": true
      },
      "outputs": [
        {
          "name": "stdout",
          "output_type": "stream",
          "text": [
            "*********************************************\n",
            "\n",
            " Train Data Shape : (590540, 432) \n",
            "\n",
            "*********************************************\n"
          ]
        }
      ],
      "source": [
        "print(\"*\"*45)\n",
        "print(\"\\n Train Data Shape : {} \\n\".format(x.shape))\n",
        "print(\"*\"*45)"
      ]
    },
    {
      "cell_type": "code",
      "execution_count": 54,
      "id": "712e6afc",
      "metadata": {
        "id": "712e6afc"
      },
      "outputs": [],
      "source": [
        "catf, numf = cat_num_features(x)\n",
        "categorical_feature_indices = [x.columns.get_loc(f) for f in catf]"
      ]
    },
    {
      "cell_type": "code",
      "execution_count": 55,
      "id": "725b5698",
      "metadata": {},
      "outputs": [],
      "source": [
        "x = label_encode(x, catf)"
      ]
    },
    {
      "cell_type": "code",
      "execution_count": 56,
      "id": "3432d35f",
      "metadata": {
        "id": "3432d35f"
      },
      "outputs": [],
      "source": [
        "x[catf] = x[catf].fillna('missing')\n"
      ]
    },
    {
      "cell_type": "code",
      "execution_count": 57,
      "id": "10320f4d",
      "metadata": {
        "id": "10320f4d"
      },
      "outputs": [],
      "source": [
        "x[numf] =x[numf].fillna(-999)\n",
        "x[numf] = preprocessing.normalize(x[numf])"
      ]
    },
    {
      "cell_type": "code",
      "execution_count": 22,
      "id": "2ae9a941",
      "metadata": {},
      "outputs": [],
      "source": [
        "high_null_features_train = [f for f in x.columns if x[f].isna().sum()/len(x) > 0.9]\n",
        "\n",
        "one_value_features_train = [f for f in x.columns if x[f].nunique()<=1]\n",
        "\n",
        "constant_value_features_train = [f for f in x.columns if x[f].value_counts(dropna=False, normalize=True).values[0] > 0.9]\n",
        "drop_cols = list(set(high_null_features_train+\\\n",
        "                     one_value_features_train+\\\n",
        "                     constant_value_features_train))\n",
        "if 'isFraud' in drop_cols:\n",
        "  drop_cols.remove('isFraud')\n",
        "x.drop(drop_cols, axis=1, inplace=True)\n",
        "catf, numf = cat_num_features(x)\n",
        "categorical_feature_indices = [x.columns.get_loc(f) for f in catf]"
      ]
    },
    {
      "cell_type": "code",
      "execution_count": 81,
      "id": "ed049cdd",
      "metadata": {},
      "outputs": [],
      "source": [
        "# smote = SMOTE()\n",
        "# x_smote, y_smote = smote.fit_resample(x, y)"
      ]
    },
    {
      "cell_type": "code",
      "execution_count": 58,
      "id": "ed356636",
      "metadata": {},
      "outputs": [],
      "source": [
        "X_train, X_test, y_train, y_test = train_test_split(x, y)"
      ]
    },
    {
      "cell_type": "code",
      "execution_count": 38,
      "id": "a8910dec",
      "metadata": {},
      "outputs": [
        {
          "name": "stdout",
          "output_type": "stream",
          "text": [
            "************************************************************\n",
            "\n",
            " Train Dataset Set1 Shape : (442905, 432) \n",
            "\n",
            "\n",
            " Test Dataset Set1 Shape : (147635, 432) \n",
            "\n",
            "************************************************************\n"
          ]
        }
      ],
      "source": [
        "print(\"*\"*60)\n",
        "print(\"\\n Train Dataset Set1 Shape : {} \\n\".format(X_train.shape))\n",
        "print(\"\\n Test Dataset Set1 Shape : {} \\n\".format(X_test.shape))\n",
        "print(\"*\"*60)"
      ]
    },
    {
      "cell_type": "markdown",
      "id": "48d2678b",
      "metadata": {
        "id": "48d2678b"
      },
      "source": [
        "## Base Line Models\n",
        "<br>"
      ]
    },
    {
      "cell_type": "markdown",
      "id": "2ba10ea9",
      "metadata": {
        "id": "2ba10ea9"
      },
      "source": [
        "<br>\n",
        "\n",
        "### 1. Naive Bayes\n",
        "\n",
        "<br>"
      ]
    },
    {
      "cell_type": "code",
      "execution_count": 39,
      "id": "bc1eab3f",
      "metadata": {
        "id": "bc1eab3f",
        "outputId": "24a57974-e8da-4953-ee3b-a6bf1bb027da"
      },
      "outputs": [
        {
          "data": {
            "text/plain": [
              "GaussianNB(priors=[0.5, 0.5])"
            ]
          },
          "execution_count": 39,
          "metadata": {},
          "output_type": "execute_result"
        }
      ],
      "source": [
        "nb = GaussianNB(priors=[0.5,0.5]) \n",
        "nb.fit(X_train, y_train)"
      ]
    },
    {
      "cell_type": "code",
      "execution_count": 64,
      "id": "56f447fe",
      "metadata": {
        "id": "56f447fe"
      },
      "outputs": [
        {
          "name": "stdout",
          "output_type": "stream",
          "text": [
            "              precision    recall  f1-score   support\n",
            "\n",
            "           0       0.98      0.76      0.86    142454\n",
            "           1       0.08      0.55      0.14      5181\n",
            "\n",
            "    accuracy                           0.76    147635\n",
            "   macro avg       0.53      0.66      0.50    147635\n",
            "weighted avg       0.95      0.76      0.83    147635\n",
            "\n"
          ]
        },
        {
          "data": {
            "image/png": "[encoded data removed]",
            "text/plain": [
              "<Figure size 504x432 with 2 Axes>"
            ]
          },
          "metadata": {
            "needs_background": "light"
          },
          "output_type": "display_data"
        }
      ],
      "source": [
        "y_pred = nb.predict(X_test)\n",
        "cnf_matrix = confusion_matrix(y_test, y_pred)\n",
        "%matplotlib inline\n",
        "class_names=[False, True] # name  of classes\n",
        "fig, ax = plt.subplots(figsize=(7, 6))\n",
        "sns.heatmap(pd.DataFrame(cnf_matrix), annot=True, cmap=\"YlGnBu\", fmt='g')\n",
        "ax.xaxis.set_label_position(\"top\")\n",
        "plt.tight_layout()\n",
        "plt.title('Confusion matrix')\n",
        "plt.ylabel('Actual label')\n",
        "plt.xlabel('Predicted label')\n",
        "tick_marks = [0.5, 1.5]\n",
        "plt.xticks(tick_marks, class_names)\n",
        "plt.yticks(tick_marks, class_names)\n",
        "print(classification_report(y_test, y_pred))"
      ]
    },
    {
      "cell_type": "markdown",
      "id": "773e6871",
      "metadata": {
        "id": "773e6871"
      },
      "source": [
        "<br>\n",
        "\n",
        "### 2. Logistic Regression\n",
        "\n",
        "<br>"
      ]
    },
    {
      "cell_type": "code",
      "execution_count": 59,
      "id": "ffe86e7b",
      "metadata": {
        "id": "ffe86e7b",
        "outputId": "2581b7b8-8daa-473d-ef00-d5961ac3f4b9",
        "scrolled": true
      },
      "outputs": [
        {
          "data": {
            "text/plain": [
              "LogisticRegression(class_weight='balanced', n_jobs=-1, random_state=3)"
            ]
          },
          "execution_count": 59,
          "metadata": {},
          "output_type": "execute_result"
        }
      ],
      "source": [
        "lr = LogisticRegression(n_jobs = -1, class_weight = 'balanced', random_state = 3) \n",
        "lr.fit(X_train, y_train)"
      ]
    },
    {
      "cell_type": "code",
      "execution_count": 60,
      "id": "82b04f35",
      "metadata": {
        "id": "82b04f35"
      },
      "outputs": [
        {
          "name": "stdout",
          "output_type": "stream",
          "text": [
            "              precision    recall  f1-score   support\n",
            "\n",
            "           0       0.98      0.80      0.88    142454\n",
            "           1       0.09      0.51      0.15      5181\n",
            "\n",
            "    accuracy                           0.79    147635\n",
            "   macro avg       0.53      0.66      0.51    147635\n",
            "weighted avg       0.95      0.79      0.85    147635\n",
            "\n"
          ]
        },
        {
          "data": {
            "image/png": "[encoded data removed]",
            "text/plain": [
              "<Figure size 504x432 with 2 Axes>"
            ]
          },
          "metadata": {
            "needs_background": "light"
          },
          "output_type": "display_data"
        }
      ],
      "source": [
        "y_pred = lr.predict(X_test)\n",
        "cnf_matrix = confusion_matrix(y_test, y_pred)\n",
        "%matplotlib inline\n",
        "class_names=[False, True] # name  of classes\n",
        "fig, ax = plt.subplots(figsize=(7, 6))\n",
        "sns.heatmap(pd.DataFrame(cnf_matrix), annot=True, cmap=\"YlGnBu\", fmt='g')\n",
        "ax.xaxis.set_label_position(\"top\")\n",
        "plt.tight_layout()\n",
        "plt.title('Confusion matrix')\n",
        "plt.ylabel('Actual label')\n",
        "plt.xlabel('Predicted label')\n",
        "tick_marks = [0.5, 1.5]\n",
        "plt.xticks(tick_marks, class_names)\n",
        "plt.yticks(tick_marks, class_names)\n",
        "print(classification_report(y_test, y_pred))"
      ]
    },
    {
      "cell_type": "markdown",
      "id": "2ae3eb8c",
      "metadata": {
        "id": "2ae3eb8c"
      },
      "source": [
        "<br>\n",
        "\n",
        "### 3. Random Forest\n",
        "\n",
        "<br>"
      ]
    },
    {
      "cell_type": "code",
      "execution_count": 61,
      "id": "aa8d1def",
      "metadata": {},
      "outputs": [
        {
          "data": {
            "text/plain": [
              "RandomForestClassifier(class_weight='balanced', n_jobs=-1, random_state=3)"
            ]
          },
          "execution_count": 61,
          "metadata": {},
          "output_type": "execute_result"
        }
      ],
      "source": [
        "rf =  RandomForestClassifier(n_jobs = -1, class_weight = 'balanced', random_state = 3)\n",
        "rf.fit(X_train, y_train)"
      ]
    },
    {
      "cell_type": "code",
      "execution_count": 65,
      "id": "b7b3cf41",
      "metadata": {},
      "outputs": [
        {
          "name": "stdout",
          "output_type": "stream",
          "text": [
            "              precision    recall  f1-score   support\n",
            "\n",
            "           0       0.98      1.00      0.99    142454\n",
            "           1       0.93      0.35      0.51      5181\n",
            "\n",
            "    accuracy                           0.98    147635\n",
            "   macro avg       0.96      0.67      0.75    147635\n",
            "weighted avg       0.98      0.98      0.97    147635\n",
            "\n"
          ]
        },
        {
          "data": {
            "image/png": "[encoded data removed]",
            "text/plain": [
              "<Figure size 504x432 with 2 Axes>"
            ]
          },
          "metadata": {
            "needs_background": "light"
          },
          "output_type": "display_data"
        }
      ],
      "source": [
        "y_pred = rf.predict(X_test)\n",
        "cnf_matrix = confusion_matrix(y_test, y_pred)\n",
        "%matplotlib inline\n",
        "class_names=[False, True] # name  of classes\n",
        "fig, ax = plt.subplots(figsize=(7, 6))\n",
        "sns.heatmap(pd.DataFrame(cnf_matrix), annot=True, cmap=\"YlGnBu\", fmt='g')\n",
        "ax.xaxis.set_label_position(\"top\")\n",
        "plt.tight_layout()\n",
        "plt.title('Confusion matrix')\n",
        "plt.ylabel('Actual label')\n",
        "plt.xlabel('Predicted label')\n",
        "tick_marks = [0.5, 1.5]\n",
        "plt.xticks(tick_marks, class_names)\n",
        "plt.yticks(tick_marks, class_names)\n",
        "print(classification_report(y_test, y_pred))"
      ]
    },
    {
      "cell_type": "markdown",
      "id": "bda6619d",
      "metadata": {},
      "source": [
        "<br>\n",
        "\n",
        "### 4. Support Vector Machine\n",
        "\n",
        "<br>"
      ]
    },
    {
      "cell_type": "code",
      "execution_count": 78,
      "id": "7ba4a98d",
      "metadata": {},
      "outputs": [],
      "source": [
        "sv = SVC()\n",
        "sv.fit(X_train, y_train)\n"
      ]
    },
    {
      "cell_type": "code",
      "execution_count": null,
      "id": "9dcae630",
      "metadata": {},
      "outputs": [],
      "source": [
        "y_pred = nb.predict(X_test)\n",
        "cnf_matrix = confusion_matrix(y_test, y_pred)\n",
        "%matplotlib inline\n",
        "class_names=[False, True] # name  of classes\n",
        "fig, ax = plt.subplots(figsize=(7, 6))\n",
        "sns.heatmap(pd.DataFrame(cnf_matrix), annot=True, cmap=\"YlGnBu\", fmt='g')\n",
        "ax.xaxis.set_label_position(\"top\")\n",
        "plt.tight_layout()\n",
        "plt.title('Confusion matrix')\n",
        "plt.ylabel('Actual label')\n",
        "plt.xlabel('Predicted label')\n",
        "tick_marks = [0.5, 1.5]\n",
        "plt.xticks(tick_marks, class_names)\n",
        "plt.yticks(tick_marks, class_names)"
      ]
    },
    {
      "cell_type": "markdown",
      "id": "1a02f819",
      "metadata": {
        "id": "1a02f819"
      },
      "source": [
        "<br>\n",
        "\n",
        "### 5. Gradient Boosted Decision Tree (XGBoost)\n",
        "\n",
        "<br>"
      ]
    },
    {
      "cell_type": "code",
      "execution_count": null,
      "id": "e515d324",
      "metadata": {},
      "outputs": [],
      "source": [
        "param_grid = {'gamma': [0.1,0.2],\n",
        "              'learning_rate': [0.01,0.02],\n",
        "              'max_depth': [6,7],\n",
        "              'n_estimators': [65,70],\n",
        "              'reg_alpha': [0.2,0.3],\n",
        "              'reg_lambda': [0.2,0.4]}\n",
        "grid = GridSearchCV(XGBClassifier(), param_grid, refit = True, verbose = 3)\n",
        "grid.fit(X_train, y_train)\n",
        "print(grid.best_params_)\n",
        "print(grid.best_estimator_)"
      ]
    },
    {
      "cell_type": "code",
      "execution_count": null,
      "id": "40974125",
      "metadata": {
        "id": "40974125"
      },
      "outputs": [],
      "source": [
        "y_pred = nb.predict(X_test)\n",
        "cnf_matrix = confusion_matrix(y_test, y_pred)\n",
        "%matplotlib inline\n",
        "class_names=[False, True] # name  of classes\n",
        "fig, ax = plt.subplots(figsize=(7, 6))\n",
        "sns.heatmap(pd.DataFrame(cnf_matrix), annot=True, cmap=\"YlGnBu\", fmt='g')\n",
        "ax.xaxis.set_label_position(\"top\")\n",
        "plt.tight_layout()\n",
        "plt.title('Confusion matrix')\n",
        "plt.ylabel('Actual label')\n",
        "plt.xlabel('Predicted label')\n",
        "tick_marks = [0.5, 1.5]\n",
        "plt.xticks(tick_marks, class_names)\n",
        "plt.yticks(tick_marks, class_names)"
      ]
    },
    {
      "cell_type": "markdown",
      "id": "a9bcf22a",
      "metadata": {},
      "source": [
        "<br>\n",
        "\n",
        "### 6. Multilayer Perceptron\n",
        "\n",
        "<br>"
      ]
    },
    {
      "cell_type": "code",
      "execution_count": 63,
      "id": "f46a5ee4",
      "metadata": {},
      "outputs": [
        {
          "name": "stdout",
          "output_type": "stream",
          "text": [
            "Iteration 1, loss = 0.15344431\n",
            "Iteration 2, loss = 0.14254796\n",
            "Iteration 3, loss = 0.14139920\n",
            "Iteration 4, loss = 0.14180360\n",
            "Iteration 5, loss = 0.14066059\n",
            "Iteration 6, loss = 0.14043479\n",
            "Iteration 7, loss = 0.14062348\n",
            "Iteration 8, loss = 0.14018377\n",
            "Iteration 9, loss = 0.14049570\n",
            "Iteration 10, loss = 0.13978757\n",
            "Iteration 11, loss = 0.14061544\n",
            "Iteration 12, loss = 0.14010095\n",
            "Iteration 13, loss = 0.14038039\n",
            "Iteration 14, loss = 0.14043060\n",
            "Iteration 15, loss = 0.14072822\n",
            "Iteration 16, loss = 0.14020979\n",
            "Iteration 17, loss = 0.14037042\n",
            "Iteration 18, loss = 0.14045644\n",
            "Iteration 19, loss = 0.14041208\n",
            "Iteration 20, loss = 0.14036187\n",
            "Iteration 21, loss = 0.13983718\n",
            "Training loss did not improve more than tol=0.000100 for 10 consecutive epochs. Stopping.\n",
            "              precision    recall  f1-score   support\n",
            "\n",
            "           0       0.96      1.00      0.98    142454\n",
            "           1       0.00      0.00      0.00      5181\n",
            "\n",
            "    accuracy                           0.96    147635\n",
            "   macro avg       0.48      0.50      0.49    147635\n",
            "weighted avg       0.93      0.96      0.95    147635\n",
            "\n"
          ]
        },
        {
          "data": {
            "image/png": "[encoded data removed]",
            "text/plain": [
              "<Figure size 504x432 with 2 Axes>"
            ]
          },
          "metadata": {
            "needs_background": "light"
          },
          "output_type": "display_data"
        }
      ],
      "source": [
        "clf = MLPClassifier(hidden_layer_sizes=(6,5),\n",
        "                    random_state=5,\n",
        "                    verbose=True,\n",
        "                    learning_rate_init=0.01)\n",
        "clf.fit(X_train,y_train)\n",
        "ypred=clf.predict(X_test)\n",
        "cnf_matrix = confusion_matrix(y_test, y_pred)\n",
        "%matplotlib inline\n",
        "class_names=[False, True] # name  of classes\n",
        "fig, ax = plt.subplots(figsize=(7, 6))\n",
        "sns.heatmap(pd.DataFrame(cnf_matrix), annot=True, cmap=\"YlGnBu\", fmt='g')\n",
        "ax.xaxis.set_label_position(\"top\")\n",
        "plt.tight_layout()\n",
        "plt.title('Confusion matrix')\n",
        "plt.ylabel('Actual label')\n",
        "plt.xlabel('Predicted label')\n",
        "tick_marks = [0.5, 1.5]\n",
        "plt.xticks(tick_marks, class_names)\n",
        "plt.yticks(tick_marks, class_names)\n",
        "print(classification_report(y_test, ypred))"
      ]
    },
    {
      "cell_type": "code",
      "execution_count": null,
      "id": "974fa008",
      "metadata": {},
      "outputs": [],
      "source": [
        "hidden_layer_sizes=[(10,), (20,)]\n",
        "activation= ['tanh', 'relu']\n",
        "learning_rate_init=[0.01, 0.1, 0.001]\n",
        "param_grid = dict(hidden_layer_sizes=hidden_layer_sizes, activation=activation, learning_rate_init=learning_rate_init)\n",
        "\n",
        "dfrst = MLPClassifier(hidden_layer_sizes=hidden_layer_sizes, activation=activation, learning_rate_init=learning_rate_init)\n",
        "grid = GridSearchCV(estimator=dfrst, param_grid=param_grid, cv = 5)"
      ]
    }
  ],
  "metadata": {
    "accelerator": "GPU",
    "colab": {
      "collapsed_sections": [],
      "machine_shape": "hm",
      "name": "2.Baseline_Models.ipynb",
      "provenance": []
    },
    "interpreter": {
      "hash": "6c1cd336c75cb671acd623a1361b1d53cb5a4c122912c1fc5f64ed28ffbea65a"
    },
    "kernelspec": {
      "display_name": "Python 3.8.5 ('base')",
      "language": "python",
      "name": "python3"
    },
    "language_info": {
      "codemirror_mode": {
        "name": "ipython",
        "version": 3
      },
      "file_extension": ".py",
      "mimetype": "text/x-python",
      "name": "python",
      "nbconvert_exporter": "python",
      "pygments_lexer": "ipython3",
      "version": "3.8.5"
    }
  },
  "nbformat": 4,
  "nbformat_minor": 5
}
